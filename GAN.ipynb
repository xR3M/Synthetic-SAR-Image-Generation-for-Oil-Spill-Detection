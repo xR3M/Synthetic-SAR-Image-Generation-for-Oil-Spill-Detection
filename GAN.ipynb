{
 "cells": [
  {
   "attachments": {},
   "cell_type": "markdown",
   "metadata": {},
   "source": [
    "### Importing Libraries"
   ]
  },
  {
   "cell_type": "code",
   "execution_count": 2,
   "metadata": {},
   "outputs": [],
   "source": [
    "import osgeo\n",
    "from osgeo import gdal\n",
    "import rasterio\n",
    "import tensorflow as tf\n",
    "gpus = tf.config.experimental.list_physical_devices('GPU')\n",
    "for gpu in gpus:\n",
    "    tf.config.experimental.set_memory_growth(gpu, True)\n",
    "for gpu in gpus:\n",
    "    print(gpu)\n",
    "import numpy as np\n",
    "import matplotlib \n",
    "from matplotlib import pyplot as plt\n",
    "import re\n",
    "    \n",
    "from tensorflow.keras import layers, models\n",
    "from tensorflow.keras.optimizers import Adam\n",
    "from tensorflow.keras.losses import BinaryCrossentropy\n",
    "from tensorflow.keras.preprocessing.image import ImageDataGenerator\n",
    "from tensorflow.keras.models import Sequential\n",
    "from tensorflow.keras.layers import Conv2D, LeakyReLU,  Dense, Flatten, Reshape, Dropout, UpSampling2D, Lambda\n",
    "from tensorflow.keras.preprocessing import image\n",
    "from PIL import Image\n",
    "import os"
   ]
  },
  {
   "cell_type": "code",
   "execution_count": 5,
   "metadata": {},
   "outputs": [
    {
     "name": "stdout",
     "output_type": "stream",
     "text": [
      "Raster Information:\n",
      "Number of Bands: 4\n",
      "Width: 256\n",
      "Height: 256\n",
      "Coordinate Reference System (CRS): None\n",
      "Transform (Affine): | 1.00, 0.00, 0.00|\n",
      "| 0.00, 1.00, 0.00|\n",
      "| 0.00, 0.00, 1.00|\n"
     ]
    },
    {
     "name": "stderr",
     "output_type": "stream",
     "text": [
      "c:\\Users\\remne\\AppData\\Local\\Programs\\Python\\Python311\\Lib\\site-packages\\rasterio\\__init__.py:319: NotGeoreferencedWarning: Dataset has no geotransform, gcps, or rpcs. The identity matrix will be returned.\n",
      "  dataset = DatasetReader(path, driver=driver, sharing=sharing, **kwargs)\n"
     ]
    }
   ],
   "source": [
    "file_path = \"images_downscaled\\\\April_7_2022.tif\"\n",
    "dataset = rasterio.open(file_path)\n",
    "\n",
    "# Print general information\n",
    "print(\"Raster Information:\")\n",
    "print(f\"Number of Bands: {dataset.count}\")\n",
    "print(f\"Width: {dataset.width}\")\n",
    "print(f\"Height: {dataset.height}\")\n",
    "print(f\"Coordinate Reference System (CRS): {dataset.crs}\")\n",
    "print(f\"Transform (Affine): {dataset.transform}\")"
   ]
  },
  {
   "attachments": {},
   "cell_type": "markdown",
   "metadata": {},
   "source": [
    "Downscaling the Images to a (256, 256) Dimension."
   ]
  },
  {
   "cell_type": "code",
   "execution_count": 3,
   "metadata": {},
   "outputs": [],
   "source": [
    "input_folder = \"images\"\n",
    "output_folder = \"images_downscaled\"\n",
    "target_resolution = (256, 256)\n",
    "\n",
    "# Create the output folder if it doesn't exist\n",
    "os.makedirs(output_folder, exist_ok=True)\n",
    "\n",
    "# Iterate over the files in the input folder\n",
    "for file_name in os.listdir(input_folder):\n",
    "    # Check if the file is an image (you can modify the condition based on your image file extensions)\n",
    "    if file_name.endswith(\".tif\"):\n",
    "        # Construct the full paths to the input and output images\n",
    "        input_image_path = os.path.join(input_folder, file_name)\n",
    "        output_image_path = os.path.join(output_folder, file_name)\n",
    "\n",
    "        # Open and resize the input image\n",
    "        input_image = Image.open(input_image_path)\n",
    "        resized_image = input_image.resize(target_resolution)\n",
    "\n",
    "        # Save the resized image to the output folder\n",
    "        resized_image.save(output_image_path)"
   ]
  },
  {
   "attachments": {},
   "cell_type": "markdown",
   "metadata": {},
   "source": [
    "Downscaling the Masks to a (256, 256) Dimension."
   ]
  },
  {
   "cell_type": "code",
   "execution_count": 4,
   "metadata": {},
   "outputs": [],
   "source": [
    "input_folder = \"masks\"\n",
    "output_folder = \"masks_downscaled\"\n",
    "target_resolution = (256, 256)\n",
    "\n",
    "# Create the output folder if it doesn't exist\n",
    "os.makedirs(output_folder, exist_ok=True)\n",
    "\n",
    "# Iterate over the files in the input folder\n",
    "for file_name in os.listdir(input_folder):\n",
    "    # Check if the file is an image (you can modify the condition based on your image file extensions)\n",
    "    if file_name.endswith(\".tif\"):\n",
    "        # Construct the full paths to the input and output images\n",
    "        input_image_path = os.path.join(input_folder, file_name)\n",
    "        output_image_path = os.path.join(output_folder, file_name)\n",
    "\n",
    "        # Open and resize the input image\n",
    "        input_image = Image.open(input_image_path)\n",
    "        resized_image = input_image.resize(target_resolution)\n",
    "\n",
    "        # Save the resized image to the output folder\n",
    "        resized_image.save(output_image_path)"
   ]
  },
  {
   "cell_type": "code",
   "execution_count": 19,
   "metadata": {},
   "outputs": [
    {
     "name": "stdout",
     "output_type": "stream",
     "text": [
      "Model: \"sequential_12\"\n",
      "_________________________________________________________________\n",
      " Layer (type)                Output Shape              Param #   \n",
      "=================================================================\n",
      " dense_12 (Dense)            (None, 65536)             6619136   \n",
      "                                                                 \n",
      " leaky_re_lu_36 (LeakyReLU)  (None, 65536)             0         \n",
      "                                                                 \n",
      " reshape_12 (Reshape)        (None, 256, 256, 1)       0         \n",
      "                                                                 \n",
      " up_sampling2d_16 (UpSamplin  (None, 512, 512, 1)      0         \n",
      " g2D)                                                            \n",
      "                                                                 \n",
      " conv2d_28 (Conv2D)          (None, 512, 512, 64)      640       \n",
      "                                                                 \n",
      " leaky_re_lu_37 (LeakyReLU)  (None, 512, 512, 64)      0         \n",
      "                                                                 \n",
      " up_sampling2d_17 (UpSamplin  (None, 1024, 1024, 64)   0         \n",
      " g2D)                                                            \n",
      "                                                                 \n",
      " conv2d_29 (Conv2D)          (None, 1024, 1024, 64)    36928     \n",
      "                                                                 \n",
      " leaky_re_lu_38 (LeakyReLU)  (None, 1024, 1024, 64)    0         \n",
      "                                                                 \n",
      " conv2d_30 (Conv2D)          (None, 1024, 1024, 64)    16448     \n",
      "                                                                 \n",
      " leaky_re_lu_39 (LeakyReLU)  (None, 1024, 1024, 64)    0         \n",
      "                                                                 \n",
      " conv2d_31 (Conv2D)          (None, 1024, 1024, 64)    16448     \n",
      "                                                                 \n",
      " leaky_re_lu_40 (LeakyReLU)  (None, 1024, 1024, 64)    0         \n",
      "                                                                 \n",
      " conv2d_32 (Conv2D)          (None, 1024, 1024, 1)     65        \n",
      "                                                                 \n",
      "=================================================================\n",
      "Total params: 6,689,665\n",
      "Trainable params: 6,689,665\n",
      "Non-trainable params: 0\n",
      "_________________________________________________________________\n"
     ]
    }
   ],
   "source": [
    "def build_generator():\n",
    "\n",
    "    model = Sequential()\n",
    "\n",
    "    model.add(Dense(256*256, input_dim = 100))\n",
    "    model.add(LeakyReLU(0.2))\n",
    "    model.add(Reshape((256, 256, 1))) # 1 is the number of channels\n",
    "\n",
    "    # Upsampling Block 1\n",
    "    model.add(UpSampling2D())\n",
    "    model.add(Conv2D(64, 3, padding='same'))\n",
    "    model.add(LeakyReLU(0.2))\n",
    "\n",
    "    # Upsampling Block 2\n",
    "    model.add(UpSampling2D())\n",
    "    model.add(Conv2D(64, 3, padding='same'))\n",
    "    model.add(LeakyReLU(0.2))\n",
    "\n",
    "    # Convolutional Block 1\n",
    "    model.add(Conv2D(64, 2, padding='same'))\n",
    "    model.add(LeakyReLU(0.2))\n",
    "\n",
    "    # Convolutuonal Block 2\n",
    "    model.add(Conv2D(64, 2, padding ='same'))\n",
    "    model.add(LeakyReLU(0.2))\n",
    "\n",
    "    # Convolutional layer to get to one channel\n",
    "    model.add(Conv2D(1, 1, padding='same', activation='tanh'))\n",
    "\n",
    "\n",
    "    return model\n",
    "\n",
    "generator = build_generator()\n",
    "\n",
    "generator.summary()\n",
    "\n"
   ]
  },
  {
   "cell_type": "code",
   "execution_count": null,
   "metadata": {},
   "outputs": [],
   "source": [
    "img = generator.predict(np.random.randn(4, 128, 1)) # generates 4 random images"
   ]
  }
 ],
 "metadata": {
  "kernelspec": {
   "display_name": "Python 3",
   "language": "python",
   "name": "python3"
  },
  "language_info": {
   "codemirror_mode": {
    "name": "ipython",
    "version": 3
   },
   "file_extension": ".py",
   "mimetype": "text/x-python",
   "name": "python",
   "nbconvert_exporter": "python",
   "pygments_lexer": "ipython3",
   "version": "3.11.4"
  },
  "orig_nbformat": 4
 },
 "nbformat": 4,
 "nbformat_minor": 2
}
